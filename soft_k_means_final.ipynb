{
 "cells": [
  {
   "cell_type": "code",
   "execution_count": 692,
   "metadata": {},
   "outputs": [],
   "source": [
    "import math\n",
    "import numpy as np\n",
    "import matplotlib.pyplot as plt\n",
    "import copy\n",
    "import random\n",
    "from time import time"
   ]
  },
  {
   "cell_type": "code",
   "execution_count": 693,
   "metadata": {},
   "outputs": [],
   "source": [
    "#plotting tools"
   ]
  },
  {
   "cell_type": "code",
   "execution_count": 694,
   "metadata": {},
   "outputs": [],
   "source": [
    "def makePlotOnlyData(data):\n",
    "    x = []\n",
    "    y = []\n",
    "    \n",
    "    for i in range(0,len(data), 1):\n",
    "        x.append(data[i][0]['x1'])\n",
    "        y.append(data[i][0]['x2'])  \n",
    "    \n",
    "    plt.figure(figsize=(10,5))\n",
    "    plt.scatter(x,y)\n",
    "    plt.xlabel('x1')\n",
    "    plt.ylabel('x2')    "
   ]
  },
  {
   "cell_type": "code",
   "execution_count": 695,
   "metadata": {},
   "outputs": [],
   "source": [
    "def makePlotWithColors(data):\n",
    "    x = []\n",
    "    y = []\n",
    "    colors = []\n",
    "    for i in range(0,len(data), 1):\n",
    "        x.append(data[i][0]['x1'])\n",
    "        y.append(data[i][0]['x2'])  \n",
    "        colors.append(data[i][1].index(max(data[i][1])))\n",
    "    plt.figure(figsize=(10,5))\n",
    "    plt.scatter(x,y, c=colors)\n",
    "    plt.xlabel('x1')\n",
    "    plt.ylabel('x2')    \n",
    "    "
   ]
  },
  {
   "cell_type": "code",
   "execution_count": 696,
   "metadata": {},
   "outputs": [],
   "source": [
    "#soft k means algorithm"
   ]
  },
  {
   "cell_type": "code",
   "execution_count": 697,
   "metadata": {},
   "outputs": [],
   "source": [
    "def soft_k_means_beta_threshold(data, c, init_t, threshold, sigma, alpha, beta_threshold):\n",
    "    \n",
    "    beta = 1/init_t\n",
    "    centers = initialize_center(len(data))\n",
    "    data = reassign_clusters(centers, data, beta)\n",
    "    centers = bayes_rule(data, centers)\n",
    "    initialization = True\n",
    "    \n",
    "    while(beta < beta_threshold):\n",
    "        initialization = False\n",
    "        data, centers = split(data, centers, sigma)    \n",
    "        orig_centers = copy.deepcopy(centers)\n",
    "        \n",
    "        data = reassign_clusters(centers, data, beta)\n",
    "        \n",
    "        centers = bayes_rule(data, centers)\n",
    "        centers = calculate_center_points(data, centers)\n",
    "        #makePlotNoLabel(data, centers)\n",
    "        \n",
    "        while(still_converging(orig_centers, centers, threshold)):\n",
    "            orig_centers = copy.deepcopy(centers)\n",
    "            \n",
    "            data = reassign_clusters(centers, data, beta)\n",
    "            centers = bayes_rule(data, centers)\n",
    "            centers = calculate_center_points(data, centers)\n",
    "  \n",
    "        data, centers = merge(data, centers, alpha)\n",
    "\n",
    "        init_t = init_t / c\n",
    "        beta = 1 / init_t\n",
    "    print([beta, len(centers)])\n",
    "    return data, centers\n",
    "    \n",
    "    "
   ]
  },
  {
   "cell_type": "code",
   "execution_count": 698,
   "metadata": {},
   "outputs": [],
   "source": [
    "def soft_k_means_deterministic(data, c, init_t, threshold, sigma, alpha):\n",
    "    \n",
    "    beta = 1/init_t\n",
    "    data, centers = initialize(data, len(data))\n",
    "    data = reassign_clusters(centers, data, beta)\n",
    "    centers = bayes_rule(data, centers)\n",
    "    initialization = True\n",
    "    \n",
    "    while(is_not_deterministic(data, initialization)):\n",
    "        initialization = False\n",
    "        data, centers = split(data, centers, sigma)    \n",
    "        orig_centers = copy.deepcopy(centers)\n",
    "        \n",
    "        data = reassign_clusters(centers, data, beta)\n",
    "        centers = bayes_rule(data, centers)\n",
    "        centers = calculate_center_points(data, centers)\n",
    "        while(still_converging(orig_centers, centers, threshold)):\n",
    "            orig_centers = copy.deepcopy(centers)\n",
    "            \n",
    "            data = reassign_clusters(centers, data, beta)\n",
    "            centers = bayes_rule(data, centers)\n",
    "            centers = calculate_center_points(data, centers)\n",
    "\n",
    "        data, centers = merge(data, centers, alpha)\n",
    "        data = reassign_clusters(centers, data, beta)\n",
    "        \n",
    "        init_t = init_t / c\n",
    "        beta = 1 / init_t\n",
    "    #print([beta, len(centers)])\n",
    "    return data, centers\n",
    "    \n",
    "    "
   ]
  },
  {
   "cell_type": "code",
   "execution_count": 699,
   "metadata": {},
   "outputs": [],
   "source": [
    "def split(data, centers, sigma):\n",
    "\n",
    "    centers = centers + copy.deepcopy(centers)\n",
    "    halfway = math.floor(len(centers)/2)\n",
    "    data = add_clusters_to_data(data)\n",
    "    for k in range(halfway, len(centers), 1):\n",
    "        centers[k][0]['x1'] = centers[k-halfway][0]['x1'] + random.uniform(-sigma, sigma)\n",
    "        centers[k][0]['x2'] = centers[k-halfway][0]['x2'] + random.uniform(-sigma, sigma)    \n",
    "        \n",
    "    return data, centers\n",
    "\n",
    "\n",
    "\n",
    "def merge(data, centers, alpha):\n",
    "    newCenters = []\n",
    "    newCentersIndex = []\n",
    "    halfway = math.floor(len(centers)/2)\n",
    "    for p in range(halfway, len(centers), 1):\n",
    "        duplicate = False\n",
    "        for k in range(0, halfway, 1):\n",
    "            if (too_close(centers[k][0], centers[p][0], alpha)):                \n",
    "                duplicate = True\n",
    "                break\n",
    "        if(not duplicate):\n",
    "            newCenters.append(centers[p])\n",
    "            newCentersIndex.append(p)\n",
    "     \n",
    "    centers = centers[0:halfway] + newCenters\n",
    "    \n",
    "    data = remove_clusters_from_data(data, halfway, newCentersIndex)\n",
    "    \n",
    "    return data, centers\n",
    "\n",
    "\n",
    "def too_close(x1, x2, threshold):\n",
    "    x1Diff = abs(x1['x1'] - x2['x1'])\n",
    "    x2Diff = abs(x1['x2'] - x2['x2'])\n",
    "    \n",
    "    if(x1Diff < threshold and x2Diff < threshold):\n",
    "\n",
    "        return True\n",
    "    \n",
    "    return False"
   ]
  },
  {
   "cell_type": "code",
   "execution_count": 700,
   "metadata": {},
   "outputs": [],
   "source": [
    "def add_clusters_to_data(data):\n",
    "    for n in range(0, len(data), 1):\n",
    "        dup = copy.deepcopy(data[n][1])\n",
    "        data[n][1] = data[n][1] + dup\n",
    "    return data\n",
    "\n",
    "\n",
    "def remove_clusters_from_data(data, numbCenters, centerIndexes):\n",
    "    \n",
    "    for n in range(0, len(data), 1):\n",
    "        merged_data = data[n][1][:numbCenters]\n",
    "        for k in centerIndexes:\n",
    "            merged_data.append(data[n][1][k])\n",
    "        data[n][1] = merged_data\n",
    "    return data"
   ]
  },
  {
   "cell_type": "code",
   "execution_count": 701,
   "metadata": {},
   "outputs": [],
   "source": [
    "def still_converging(orig_centers, updated_centers, threshold):\n",
    "    moved = False\n",
    "    for k in range(0, len(orig_centers), 1):\n",
    "        x1Diff = abs(orig_centers[k][0]['x1'] - updated_centers[k][0]['x1'])\n",
    "        x2Diff = abs(orig_centers[k][0]['x2'] - updated_centers[k][0]['x2'])\n",
    "        \n",
    "        if(x1Diff > threshold or x2Diff > threshold):\n",
    "            moved = True\n",
    "            break\n",
    "    return moved"
   ]
  },
  {
   "cell_type": "code",
   "execution_count": 702,
   "metadata": {},
   "outputs": [],
   "source": [
    "def is_not_deterministic(data, initialization):\n",
    "    if(initialization):\n",
    "        return True\n",
    "    value = 2\n",
    "    maxVal = 0\n",
    "    for n in range(0, len(data), 1):\n",
    "        maxVal = max(data[n][1])\n",
    "        value = min(value, maxVal)\n",
    "\n",
    "    if(value < 0.9999):\n",
    "        return True\n",
    "    return False"
   ]
  },
  {
   "cell_type": "code",
   "execution_count": 703,
   "metadata": {},
   "outputs": [],
   "source": [
    "def initialize(data, numb_data_points):\n",
    "    centers_data = []\n",
    "    position = {'x1': 0, 'x2': 0}\n",
    "    probabilty_cluster_contains_point = []\n",
    "        \n",
    "    for k in range(0, numb_data_points, 1):\n",
    "        probabilty_cluster_contains_point.append( (1/numb_data_points) )\n",
    "        \n",
    "    centers_data.append([position, probabilty_cluster_contains_point])\n",
    "    for n in range(0, len(data), 1):\n",
    "        data[n][1] = []\n",
    "        data[n][1].append(1)\n",
    "    return data, centers_data\n",
    "       "
   ]
  },
  {
   "cell_type": "code",
   "execution_count": 704,
   "metadata": {},
   "outputs": [],
   "source": [
    "def calculate_center_points(data, centers):\n",
    "    for k in range(0,len(centers),1):\n",
    "        avg_x = 0;\n",
    "        avg_y = 0;\n",
    "        \n",
    "        for n in range(0, len(data), 1):\n",
    "            avg_x += centers[k][1][n]* data[n][0]['x1']\n",
    "            avg_y += centers[k][1][n]* data[n][0]['x2']\n",
    "            \n",
    "        centers[k][0]['x1'] = avg_x\n",
    "        centers[k][0]['x2'] = avg_y\n",
    "    return centers"
   ]
  },
  {
   "cell_type": "code",
   "execution_count": 705,
   "metadata": {},
   "outputs": [],
   "source": [
    "def bayes_rule(data, centers):\n",
    "    for k in range(0, len(centers), 1):\n",
    "        for n in range(0, len(data), 1):\n",
    "            p_c_given_x = data[n][1][k]\n",
    "            sum_p_c_given_x = 0\n",
    "            \n",
    "            for n2 in range(0, len(data), 1):\n",
    "                sum_p_c_given_x += data[n2][1][k]\n",
    "            if(sum_p_c_given_x == 0):\n",
    "                centers[k][1][n] = 0\n",
    "            else:\n",
    "                centers[k][1][n] = p_c_given_x / sum_p_c_given_x\n",
    "            \n",
    "    return centers"
   ]
  },
  {
   "cell_type": "code",
   "execution_count": 706,
   "metadata": {},
   "outputs": [],
   "source": [
    "def reassign_clusters(clusters, data, beta):\n",
    "    for n in range(0, len(data), 1):\n",
    "        z = 0 \n",
    "        for k in range(0, len(clusters), 1):\n",
    "            p_c = calculate_p_c(data, k)\n",
    "            z = calculate_z(data, data[n], clusters, beta)\n",
    "            if(z==0):\n",
    "                p_c_given_x = 0\n",
    "            else:    \n",
    "                p_c_given_x = (p_c / z) *  math.exp( -beta * distance(data[n][0], clusters[k][0]) )\n",
    "            data[n][1][k] = p_c_given_x\n",
    "            \n",
    "    return data    "
   ]
  },
  {
   "cell_type": "code",
   "execution_count": 707,
   "metadata": {},
   "outputs": [],
   "source": [
    "def distance(data_position, center_position):\n",
    " \n",
    "    x1_dist = (data_position['x1'] - center_position['x1'])**2\n",
    "    x2_dist = (data_position['x2'] - center_position['x2'])**2\n",
    "    \n",
    "    return (1/2) * (x1_dist + x2_dist)"
   ]
  },
  {
   "cell_type": "code",
   "execution_count": 708,
   "metadata": {},
   "outputs": [],
   "source": [
    "def calculate_p_c(data, k):\n",
    "    p_c = 0\n",
    "    for x in range(0, len(data), 1):\n",
    "        p_c += data[x][1][k] \n",
    "    return p_c / len(data)"
   ]
  },
  {
   "cell_type": "code",
   "execution_count": 709,
   "metadata": {},
   "outputs": [],
   "source": [
    "def calculate_z(data, data_point, clusters, beta):\n",
    "    z = 0\n",
    "    for c in range(0, len(clusters), 1):\n",
    "        z += ( calculate_p_c(data, c)*math.exp( -beta * distance(data_point[0], clusters[c][0])) )\n",
    "    return z\n",
    "    "
   ]
  },
  {
   "cell_type": "code",
   "execution_count": 710,
   "metadata": {},
   "outputs": [],
   "source": [
    "# make data"
   ]
  },
  {
   "cell_type": "code",
   "execution_count": 711,
   "metadata": {},
   "outputs": [],
   "source": [
    "def make_data(clusters, points_per_cluster, xBoundary, yBoundary, sigma):\n",
    "    data = []\n",
    "    for i in range(0, clusters, 1):\n",
    "        xcenter = np.random.randint(-xBoundary , xBoundary,1)[0]\n",
    "        ycenter = np.random.randint(-yBoundary , yBoundary,1)[0]\n",
    "        \n",
    "        for j in range(0, points_per_cluster, 1):\n",
    "            position = {'x1': np.random.normal(xcenter, sigma), \n",
    "                        'x2': np.random.normal(ycenter, sigma)}\n",
    "            proability_point_in_cluster = [1/clusters]\n",
    "            \n",
    "            data.append([position, proability_point_in_cluster])\n",
    "    return data"
   ]
  },
  {
   "cell_type": "code",
   "execution_count": 712,
   "metadata": {},
   "outputs": [],
   "source": [
    "def make_data_2(clusters, points_per_cluster, xBoundary, yBoundary, max_sigma):\n",
    "    data = []\n",
    "    for i in range(0, clusters, 1):\n",
    "        xcenter = np.random.randint(-xBoundary , xBoundary,1)[0]\n",
    "        ycenter = np.random.randint(-yBoundary , yBoundary,1)[0]\n",
    "        sigma = random.uniform(0, max_sigma)\n",
    "        for j in range(0, points_per_cluster, 1):\n",
    "            position = {'x1': np.random.normal(xcenter, sigma), \n",
    "                        'x2': np.random.normal(ycenter, sigma)}\n",
    "            proability_point_in_cluster = [1/clusters]\n",
    "            \n",
    "            data.append([position, proability_point_in_cluster, i])\n",
    "    return data"
   ]
  },
  {
   "cell_type": "code",
   "execution_count": 714,
   "metadata": {
    "scrolled": false
   },
   "outputs": [
    {
     "data": {
      "image/png": "[encoded data removed]",
      "text/plain": [
       "<Figure size 720x360 with 1 Axes>"
      ]
     },
     "metadata": {
      "needs_background": "light"
     },
     "output_type": "display_data"
    }
   ],
   "source": [
    "#data = make_data_2(5, 10, 5,5,1)\n",
    "data = make_data(3, 10, 5,5,0.2)\n",
    "data2, centers = soft_k_means_deterministic(data, 1.5, 5, 0.3, 0.6, 0.4)\n",
    "makePlotWithColors(data)"
   ]
  }
 ],
 "metadata": {
  "kernelspec": {
   "display_name": "Python 3",
   "language": "python",
   "name": "python3"
  },
  "language_info": {
   "codemirror_mode": {
    "name": "ipython",
    "version": 3
   },
   "file_extension": ".py",
   "mimetype": "text/x-python",
   "name": "python",
   "nbconvert_exporter": "python",
   "pygments_lexer": "ipython3",
   "version": "3.7.1"
  }
 },
 "nbformat": 4,
 "nbformat_minor": 2
}
